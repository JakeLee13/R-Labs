{
 "cells": [
  {
   "cell_type": "markdown",
   "id": "1072b0bc",
   "metadata": {},
   "source": [
    "# 3080 R Lab 2 - Assignment 1\n",
    "### Jacob Lee"
   ]
  },
  {
   "cell_type": "markdown",
   "id": "6cd73a5a",
   "metadata": {},
   "source": [
    "## Problem 1\n",
    "Make x equal to a standard normal random variable (hint: You can use rnorm())\n",
    "\n",
    "Write an if, else if, else block to set the value of y:\n",
    "\n",
    "If x >= 1, then set y = 1\n",
    "\n",
    "If x <= -1, then set y = -1\n",
    "\n",
    "If -1 < x < 1, then set y = x"
   ]
  },
  {
   "cell_type": "code",
   "execution_count": 1,
   "id": "3da0f1b4",
   "metadata": {},
   "outputs": [
    {
     "name": "stdout",
     "output_type": "stream",
     "text": [
      "x:  0.5958435 \n",
      "y:  0.5958435"
     ]
    }
   ],
   "source": [
    "x = rnorm(1)\n",
    "\n",
    "if (x >= 1) {\n",
    "  y <- 1\n",
    "} else if (x <= -1) {\n",
    "  y <- -1\n",
    "} else {\n",
    "  y <- x\n",
    "}\n",
    "cat(\"x: \", x,\"\\n\")\n",
    "cat(\"y: \", y)"
   ]
  },
  {
   "cell_type": "markdown",
   "id": "89a6a617",
   "metadata": {},
   "source": [
    "Write a function truncate_values that takes in a value 'a'\n",
    "\n",
    " If a >= 1, return the value 1\n",
    " \n",
    " If a <= -1, return the value -1\n",
    " \n",
    " If -1 < a < 1, return the value a"
   ]
  },
  {
   "cell_type": "code",
   "execution_count": 2,
   "id": "e506a08a",
   "metadata": {},
   "outputs": [],
   "source": [
    "truncate_values = function(a) {\n",
    "  if (a >= 1) {\n",
    "    return(1)\n",
    "  } else if (a <= -1) {\n",
    "    return(-1)\n",
    "  } else {\n",
    "    return(a)\n",
    "  }\n",
    "}"
   ]
  },
  {
   "cell_type": "markdown",
   "id": "131299df",
   "metadata": {},
   "source": [
    "## Problem 2\n",
    "\n",
    "Consider this Fibonacci-like sequence.  The first 3 terms are 1, 2, and 3.\n",
    "\n",
    "For n >= 4, the nth term is found by adding up the previous 3 terms.\n",
    "#For example, the 4th term is 1+2+3 = 6\n",
    "\n",
    "Let seq be the vector of the first 35 terms in this sequence (including the first 3 terms of 1, 2, 3)"
   ]
  },
  {
   "cell_type": "code",
   "execution_count": 3,
   "id": "6eb1dad4",
   "metadata": {},
   "outputs": [
    {
     "name": "stdout",
     "output_type": "stream",
     "text": [
      " [1]         1         2         3         6        11        20        37\n",
      " [8]        68       125       230       423       778      1431      2632\n",
      "[15]      4841      8904     16377     30122     55403    101902    187427\n",
      "[22]    344732    634061   1166220   2145013   3945294   7256527  13346834\n",
      "[29]  24548655  45152016  83047505 152748176 280947697 516743378 950439251\n"
     ]
    }
   ],
   "source": [
    "seq = c(1, 2, 3)\n",
    "\n",
    "for (i in 4:35) {\n",
    "  seq[i] <- sum(seq[(i - 3):(i - 1)])\n",
    "}\n",
    "print(seq)"
   ]
  },
  {
   "cell_type": "markdown",
   "id": "f1ee601f",
   "metadata": {},
   "source": [
    "# Problem 3\n",
    "Consider the following statistic.  You have a vector of numeric data $x_1, x_2, ..., x_n$.  The order of the data matters.\n",
    "\n",
    "You check if $x_1 < x_2$. Then you check if $x_2 < x_3$. Then you check if x_3 < x_4, and so on.\n",
    "\n",
    "The last check is if $x_{n-1} < x_n$\n",
    "\n",
    "The statistic s is the number of times that this happened, in other words, the number of values i where $x_i < x_{i+1}$.\n",
    "Note, s is always a whole number between 0 and n-1.\n",
    "\n",
    "For this question, you'll write a function to calculate this statistic.\n",
    "The function has one input: a vector of numeric data called 'vec'\n",
    "The function will return the value of the statistic s.\n",
    "\n",
    "Your function should check if 'vec' is numeric.  If it is not, the function should return an error that says \"vec must be numeric\".\n",
    "\n",
    "Your function should be able to handle the case where vec has length 1. For this case, s = 0.  "
   ]
  },
  {
   "cell_type": "code",
   "execution_count": 4,
   "id": "bd2d8ea5",
   "metadata": {},
   "outputs": [
    {
     "name": "stdout",
     "output_type": "stream",
     "text": [
      "[1] 34\n"
     ]
    }
   ],
   "source": [
    "s_statistic = function(vec) {\n",
    "  # Handle non-numeric case\n",
    "  if (!is.numeric(vec)) {\n",
    "    stop(\"vec must be numeric\")\n",
    "  }\n",
    "  \n",
    "  # Handle length 1 case\n",
    "  if (length(vec) == 1) {\n",
    "    return(0)\n",
    "  }\n",
    "  \n",
    "  # Calculate the statistic s\n",
    "  s <- sum(vec[-length(vec)] < vec[-1])\n",
    "  \n",
    "  return(s)\n",
    "}\n",
    " # test on seq from 3 (expect 34)\n",
    "print(s_statistic(seq))"
   ]
  },
  {
   "cell_type": "code",
   "execution_count": 5,
   "id": "98275d64",
   "metadata": {},
   "outputs": [
    {
     "name": "stdout",
     "output_type": "stream",
     "text": [
      "[1] 0\n"
     ]
    }
   ],
   "source": [
    "# test on reverse of seq (expect 0)\n",
    "rev_seq = rev(seq)\n",
    "print(s_statistic(rev_seq))"
   ]
  }
 ],
 "metadata": {
  "kernelspec": {
   "display_name": "R",
   "language": "R",
   "name": "ir"
  },
  "language_info": {
   "codemirror_mode": "r",
   "file_extension": ".r",
   "mimetype": "text/x-r-source",
   "name": "R",
   "pygments_lexer": "r",
   "version": "4.3.0"
  }
 },
 "nbformat": 4,
 "nbformat_minor": 5
}
